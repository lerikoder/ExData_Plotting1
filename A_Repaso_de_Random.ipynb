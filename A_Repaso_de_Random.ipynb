{
  "nbformat": 4,
  "nbformat_minor": 0,
  "metadata": {
    "kernelspec": {
      "display_name": "Python 3",
      "language": "python",
      "name": "python3"
    },
    "language_info": {
      "codemirror_mode": {
        "name": "ipython",
        "version": 3
      },
      "file_extension": ".py",
      "mimetype": "text/x-python",
      "name": "python",
      "nbconvert_exporter": "python",
      "pygments_lexer": "ipython3",
      "version": "3.7.3"
    },
    "colab": {
      "name": "A Repaso de Random.ipynb",
      "provenance": [],
      "include_colab_link": true
    }
  },
  "cells": [
    {
      "cell_type": "markdown",
      "metadata": {
        "id": "view-in-github",
        "colab_type": "text"
      },
      "source": [
        "<a href=\"https://colab.research.google.com/github/lerikoder/ExData_Plotting1/blob/master/A_Repaso_de_Random.ipynb\" target=\"_parent\"><img src=\"https://colab.research.google.com/assets/colab-badge.svg\" alt=\"Open In Colab\"/></a>"
      ]
    },
    {
      "cell_type": "code",
      "metadata": {
        "id": "ZeTEdpJmqM5x",
        "colab_type": "code",
        "colab": {},
        "outputId": "7118abf4-1725-47db-dafd-d309cec70a5d"
      },
      "source": [
        "import numpy as np\n",
        "import numpy.random as npra\n",
        "#dir(np)\n",
        "help(np.arange)"
      ],
      "execution_count": 0,
      "outputs": [
        {
          "output_type": "stream",
          "text": [
            "Help on built-in function arange in module numpy:\n",
            "\n",
            "arange(...)\n",
            "    arange([start,] stop[, step,], dtype=None)\n",
            "    \n",
            "    Return evenly spaced values within a given interval.\n",
            "    \n",
            "    Values are generated within the half-open interval ``[start, stop)``\n",
            "    (in other words, the interval including `start` but excluding `stop`).\n",
            "    For integer arguments the function is equivalent to the Python built-in\n",
            "    `range` function, but returns an ndarray rather than a list.\n",
            "    \n",
            "    When using a non-integer step, such as 0.1, the results will often not\n",
            "    be consistent.  It is better to use `numpy.linspace` for these cases.\n",
            "    \n",
            "    Parameters\n",
            "    ----------\n",
            "    start : number, optional\n",
            "        Start of interval.  The interval includes this value.  The default\n",
            "        start value is 0.\n",
            "    stop : number\n",
            "        End of interval.  The interval does not include this value, except\n",
            "        in some cases where `step` is not an integer and floating point\n",
            "        round-off affects the length of `out`.\n",
            "    step : number, optional\n",
            "        Spacing between values.  For any output `out`, this is the distance\n",
            "        between two adjacent values, ``out[i+1] - out[i]``.  The default\n",
            "        step size is 1.  If `step` is specified as a position argument,\n",
            "        `start` must also be given.\n",
            "    dtype : dtype\n",
            "        The type of the output array.  If `dtype` is not given, infer the data\n",
            "        type from the other input arguments.\n",
            "    \n",
            "    Returns\n",
            "    -------\n",
            "    arange : ndarray\n",
            "        Array of evenly spaced values.\n",
            "    \n",
            "        For floating point arguments, the length of the result is\n",
            "        ``ceil((stop - start)/step)``.  Because of floating point overflow,\n",
            "        this rule may result in the last element of `out` being greater\n",
            "        than `stop`.\n",
            "    \n",
            "    See Also\n",
            "    --------\n",
            "    linspace : Evenly spaced numbers with careful handling of endpoints.\n",
            "    ogrid: Arrays of evenly spaced numbers in N-dimensions.\n",
            "    mgrid: Grid-shaped arrays of evenly spaced numbers in N-dimensions.\n",
            "    \n",
            "    Examples\n",
            "    --------\n",
            "    >>> np.arange(3)\n",
            "    array([0, 1, 2])\n",
            "    >>> np.arange(3.0)\n",
            "    array([ 0.,  1.,  2.])\n",
            "    >>> np.arange(3,7)\n",
            "    array([3, 4, 5, 6])\n",
            "    >>> np.arange(3,7,2)\n",
            "    array([3, 5])\n",
            "\n"
          ],
          "name": "stdout"
        }
      ]
    },
    {
      "cell_type": "code",
      "metadata": {
        "id": "WLMnku8DqM58",
        "colab_type": "code",
        "colab": {},
        "outputId": "bd573f04-d728-4173-95c2-c53709e5e070"
      },
      "source": [
        "np.arange(23, 56)"
      ],
      "execution_count": 0,
      "outputs": [
        {
          "output_type": "execute_result",
          "data": {
            "text/plain": [
              "array([23, 24, 25, 26, 27, 28, 29, 30, 31, 32, 33, 34, 35, 36, 37, 38, 39,\n",
              "       40, 41, 42, 43, 44, 45, 46, 47, 48, 49, 50, 51, 52, 53, 54, 55])"
            ]
          },
          "metadata": {
            "tags": []
          },
          "execution_count": 34
        }
      ]
    },
    {
      "cell_type": "code",
      "metadata": {
        "collapsed": true,
        "id": "UUVHe0DKqM6I",
        "colab_type": "code",
        "colab": {},
        "outputId": "176a8096-f582-4643-cb6d-f1b673ba7f75"
      },
      "source": [
        "#help(npra.random)\n",
        "A = np.ceil(npra.random_sample((130,130))*7)\n",
        "x = -6 + np.ceil(npra.random_sample(130) * 6)\n",
        "b = np.linalg.solve(A,x)\n",
        "print(\"\\nA= \\n\", A, \"\\nx = \", x, \"\\n b=\", b)\n"
      ],
      "execution_count": 0,
      "outputs": [
        {
          "output_type": "stream",
          "text": [
            "\n",
            "A= \n",
            " [[5. 6. 3. ... 7. 1. 4.]\n",
            " [6. 7. 1. ... 2. 7. 4.]\n",
            " [5. 5. 1. ... 6. 4. 4.]\n",
            " ...\n",
            " [2. 2. 7. ... 6. 2. 3.]\n",
            " [6. 5. 4. ... 3. 5. 3.]\n",
            " [6. 4. 5. ... 7. 1. 2.]] \n",
            "x =  [-2. -3. -2. -3. -1. -4. -1. -3.  0. -5. -5. -4. -5. -3. -2. -3. -1. -1.\n",
            " -5. -1. -1. -4. -3.  0. -1. -3. -5. -5. -2. -2.  0. -5. -5. -5. -5.  0.\n",
            " -5. -5. -1. -2. -1. -5. -5. -5. -1. -2. -2. -4. -5. -3. -3. -1. -1. -5.\n",
            " -2. -3. -2. -3. -3. -1. -2.  0.  0. -1. -5.  0. -3.  0. -2. -1.  0. -3.\n",
            " -5. -4.  0. -5. -4.  0. -4.  0. -1. -5. -3. -3. -2. -5. -2. -4. -1.  0.\n",
            " -1. -4. -5. -3.  0. -1. -5. -3. -2. -4.  0. -3.  0.  0. -4. -3. -1. -5.\n",
            " -2. -2. -3. -4. -5. -4. -1. -1. -4. -2. -2.  0. -4. -4. -2. -4.  0. -1.\n",
            " -5. -2. -3. -3.] \n",
            " b= [-1.23119179 -0.28846817  0.94287418 -4.14308884 -4.14657473  1.51890886\n",
            " -1.9999666   0.28219745  1.38652175  0.54156586 -4.0215916   3.28103729\n",
            "  2.49926099 -4.89578627 -0.79623805  0.24814847  1.70747488  1.62851145\n",
            "  4.78499073  2.6572708  -0.33327087  1.27639456  0.02557916 -2.81389535\n",
            "  0.28052716 -1.77705855  4.03781185  0.40972993 -2.41825126 -3.62796302\n",
            "  0.55655662  2.65136901 -4.02331579 -4.03119255 -1.50982377  2.49558255\n",
            "  0.17279085  1.8003778  -0.85092855  2.54316422  0.22562119 -1.07312668\n",
            "  2.35095624  1.98131661  2.30695762  2.64706654 -0.02469845  0.64225207\n",
            " -1.69013986 -3.35252776  1.50085566 -2.44649558 -0.23321238  1.51735826\n",
            "  0.6449988   3.87959454  0.90092626  0.82626009 -2.85431137  2.61725302\n",
            "  1.72046751 -0.04193793  2.21220358  2.32547158 -3.37089749  1.28425197\n",
            " -1.41941946 -1.90816738 -2.17629019  1.89742739  2.23750091  0.24015394\n",
            "  4.33078329  0.83385261 -3.00504242  0.53238799 -3.17192468 -0.33109372\n",
            "  0.48887466  3.21870906 -1.33552461 -0.35717762 -4.55297585  2.36726585\n",
            "  0.6777695   0.77432632  1.49644599  0.16538073  2.54567774  4.30766935\n",
            "  0.84471318 -2.91580262  0.0775059  -0.42648334  1.08770991  2.02446062\n",
            "  1.05365146 -0.44228611 -2.03668927 -2.05433392 -0.35558831  0.62101107\n",
            " -2.22950024 -2.39909165 -3.30367775 -3.75866189 -0.82341299  1.61490539\n",
            "  1.35811158  2.33123515 -2.18103298  0.91864647 -2.29044575  4.0132524\n",
            " -2.92376944  0.66686859 -1.94546012  2.10903668 -0.18299248  2.89798059\n",
            " -2.88337157  0.6813983  -2.68541001 -4.63320339 -2.57636541  1.75188801\n",
            "  3.2859724  -0.46167778 -2.30237691 -1.03751423]\n"
          ],
          "name": "stdout"
        }
      ]
    },
    {
      "cell_type": "code",
      "metadata": {
        "collapsed": true,
        "id": "Q6j01gN1qM6S",
        "colab_type": "code",
        "colab": {},
        "outputId": "1f4c6267-6029-4859-bfc6-26a4148f7f08"
      },
      "source": [
        "print(np.matmul(A, b), \"\\n\", x)"
      ],
      "execution_count": 0,
      "outputs": [
        {
          "output_type": "stream",
          "text": [
            "[-2.00000000e+00 -3.00000000e+00 -2.00000000e+00 -3.00000000e+00\n",
            " -1.00000000e+00 -4.00000000e+00 -1.00000000e+00 -3.00000000e+00\n",
            "  7.10542736e-15 -5.00000000e+00 -5.00000000e+00 -4.00000000e+00\n",
            " -5.00000000e+00 -3.00000000e+00 -2.00000000e+00 -3.00000000e+00\n",
            " -1.00000000e+00 -1.00000000e+00 -5.00000000e+00 -1.00000000e+00\n",
            " -1.00000000e+00 -4.00000000e+00 -3.00000000e+00 -1.27897692e-13\n",
            " -1.00000000e+00 -3.00000000e+00 -5.00000000e+00 -5.00000000e+00\n",
            " -2.00000000e+00 -2.00000000e+00 -2.84217094e-14 -5.00000000e+00\n",
            " -5.00000000e+00 -5.00000000e+00 -5.00000000e+00  9.23705556e-14\n",
            " -5.00000000e+00 -5.00000000e+00 -1.00000000e+00 -2.00000000e+00\n",
            " -1.00000000e+00 -5.00000000e+00 -5.00000000e+00 -5.00000000e+00\n",
            " -1.00000000e+00 -2.00000000e+00 -2.00000000e+00 -4.00000000e+00\n",
            " -5.00000000e+00 -3.00000000e+00 -3.00000000e+00 -1.00000000e+00\n",
            " -1.00000000e+00 -5.00000000e+00 -2.00000000e+00 -3.00000000e+00\n",
            " -2.00000000e+00 -3.00000000e+00 -3.00000000e+00 -1.00000000e+00\n",
            " -2.00000000e+00 -1.13686838e-13  2.84217094e-14 -1.00000000e+00\n",
            " -5.00000000e+00 -1.70530257e-13 -3.00000000e+00 -1.84741111e-13\n",
            " -2.00000000e+00 -1.00000000e+00  0.00000000e+00 -3.00000000e+00\n",
            " -5.00000000e+00 -4.00000000e+00  8.52651283e-14 -5.00000000e+00\n",
            " -4.00000000e+00  2.55795385e-13 -4.00000000e+00 -5.68434189e-14\n",
            " -1.00000000e+00 -5.00000000e+00 -3.00000000e+00 -3.00000000e+00\n",
            " -2.00000000e+00 -5.00000000e+00 -2.00000000e+00 -4.00000000e+00\n",
            " -1.00000000e+00 -9.94759830e-14 -1.00000000e+00 -4.00000000e+00\n",
            " -5.00000000e+00 -3.00000000e+00  4.26325641e-14 -1.00000000e+00\n",
            " -5.00000000e+00 -3.00000000e+00 -2.00000000e+00 -4.00000000e+00\n",
            " -2.84217094e-14 -3.00000000e+00 -2.84217094e-14  0.00000000e+00\n",
            " -4.00000000e+00 -3.00000000e+00 -1.00000000e+00 -5.00000000e+00\n",
            " -2.00000000e+00 -2.00000000e+00 -3.00000000e+00 -4.00000000e+00\n",
            " -5.00000000e+00 -4.00000000e+00 -1.00000000e+00 -1.00000000e+00\n",
            " -4.00000000e+00 -2.00000000e+00 -2.00000000e+00  1.42108547e-14\n",
            " -4.00000000e+00 -4.00000000e+00 -2.00000000e+00 -4.00000000e+00\n",
            " -1.42108547e-14 -1.00000000e+00 -5.00000000e+00 -2.00000000e+00\n",
            " -3.00000000e+00 -3.00000000e+00] \n",
            " [-2. -3. -2. -3. -1. -4. -1. -3.  0. -5. -5. -4. -5. -3. -2. -3. -1. -1.\n",
            " -5. -1. -1. -4. -3.  0. -1. -3. -5. -5. -2. -2.  0. -5. -5. -5. -5.  0.\n",
            " -5. -5. -1. -2. -1. -5. -5. -5. -1. -2. -2. -4. -5. -3. -3. -1. -1. -5.\n",
            " -2. -3. -2. -3. -3. -1. -2.  0.  0. -1. -5.  0. -3.  0. -2. -1.  0. -3.\n",
            " -5. -4.  0. -5. -4.  0. -4.  0. -1. -5. -3. -3. -2. -5. -2. -4. -1.  0.\n",
            " -1. -4. -5. -3.  0. -1. -5. -3. -2. -4.  0. -3.  0.  0. -4. -3. -1. -5.\n",
            " -2. -2. -3. -4. -5. -4. -1. -1. -4. -2. -2.  0. -4. -4. -2. -4.  0. -1.\n",
            " -5. -2. -3. -3.]\n"
          ],
          "name": "stdout"
        }
      ]
    },
    {
      "cell_type": "code",
      "metadata": {
        "id": "LIimJCN7qM6a",
        "colab_type": "code",
        "colab": {}
      },
      "source": [
        ""
      ],
      "execution_count": 0,
      "outputs": []
    }
  ]
}